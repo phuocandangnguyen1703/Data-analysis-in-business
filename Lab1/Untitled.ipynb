{
 "cells": [
  {
   "cell_type": "code",
   "execution_count": 1,
   "id": "6051dc0a",
   "metadata": {},
   "outputs": [],
   "source": [
    "import numpy as np\n",
    "import pandas as pd\n",
    "import statistics as st\n",
    "import matplotlib.pyplot as plt\n",
    "from scipy.stats import skew\n",
    "from scipy.stats import kurtosis\n"
   ]
  },
  {
   "cell_type": "code",
   "execution_count": 2,
   "id": "a46639d8",
   "metadata": {},
   "outputs": [
    {
     "data": {
      "text/html": [
       "<div>\n",
       "<style scoped>\n",
       "    .dataframe tbody tr th:only-of-type {\n",
       "        vertical-align: middle;\n",
       "    }\n",
       "\n",
       "    .dataframe tbody tr th {\n",
       "        vertical-align: top;\n",
       "    }\n",
       "\n",
       "    .dataframe thead th {\n",
       "        text-align: right;\n",
       "    }\n",
       "</style>\n",
       "<table border=\"1\" class=\"dataframe\">\n",
       "  <thead>\n",
       "    <tr style=\"text-align: right;\">\n",
       "      <th></th>\n",
       "      <th>Supplier</th>\n",
       "      <th>Order No.</th>\n",
       "      <th>Item No.</th>\n",
       "      <th>Item Description</th>\n",
       "      <th>Item Cost</th>\n",
       "      <th>Quantity</th>\n",
       "      <th>Cost per order</th>\n",
       "      <th>A/P Terms (Months)</th>\n",
       "      <th>Order Date</th>\n",
       "      <th>Arrival Date</th>\n",
       "    </tr>\n",
       "  </thead>\n",
       "  <tbody>\n",
       "    <tr>\n",
       "      <th>0</th>\n",
       "      <td>Alum Sheeting</td>\n",
       "      <td>A0223</td>\n",
       "      <td>4224</td>\n",
       "      <td>Bolt-nut package</td>\n",
       "      <td>$3.95</td>\n",
       "      <td>4,500</td>\n",
       "      <td>17775.0</td>\n",
       "      <td>30</td>\n",
       "      <td>10/15/2011</td>\n",
       "      <td>10/20/2011</td>\n",
       "    </tr>\n",
       "    <tr>\n",
       "      <th>1</th>\n",
       "      <td>Alum Sheeting</td>\n",
       "      <td>A0433</td>\n",
       "      <td>5417</td>\n",
       "      <td>Control Panel</td>\n",
       "      <td>$255.00</td>\n",
       "      <td>500</td>\n",
       "      <td>127500.0</td>\n",
       "      <td>30</td>\n",
       "      <td>10/20/2011</td>\n",
       "      <td>10/27/2011</td>\n",
       "    </tr>\n",
       "    <tr>\n",
       "      <th>2</th>\n",
       "      <td>Alum Sheeting</td>\n",
       "      <td>A0443</td>\n",
       "      <td>1243</td>\n",
       "      <td>Airframe fasteners</td>\n",
       "      <td>$4.25</td>\n",
       "      <td>10,000</td>\n",
       "      <td>42500.0</td>\n",
       "      <td>30</td>\n",
       "      <td>8/8/2011</td>\n",
       "      <td>8/14/2011</td>\n",
       "    </tr>\n",
       "    <tr>\n",
       "      <th>3</th>\n",
       "      <td>Alum Sheeting</td>\n",
       "      <td>A0446</td>\n",
       "      <td>5417</td>\n",
       "      <td>Control Panel</td>\n",
       "      <td>$255.00</td>\n",
       "      <td>406</td>\n",
       "      <td>103530.0</td>\n",
       "      <td>30</td>\n",
       "      <td>9/1/2011</td>\n",
       "      <td>9/10/2011</td>\n",
       "    </tr>\n",
       "    <tr>\n",
       "      <th>4</th>\n",
       "      <td>Alum Sheeting</td>\n",
       "      <td>B0247</td>\n",
       "      <td>1243</td>\n",
       "      <td>Airframe fasteners</td>\n",
       "      <td>$4.25</td>\n",
       "      <td>9,000</td>\n",
       "      <td>38250.0</td>\n",
       "      <td>30</td>\n",
       "      <td>9/5/2011</td>\n",
       "      <td>9/12/2011</td>\n",
       "    </tr>\n",
       "    <tr>\n",
       "      <th>...</th>\n",
       "      <td>...</td>\n",
       "      <td>...</td>\n",
       "      <td>...</td>\n",
       "      <td>...</td>\n",
       "      <td>...</td>\n",
       "      <td>...</td>\n",
       "      <td>...</td>\n",
       "      <td>...</td>\n",
       "      <td>...</td>\n",
       "      <td>...</td>\n",
       "    </tr>\n",
       "    <tr>\n",
       "      <th>89</th>\n",
       "      <td>Steelpin Inc.</td>\n",
       "      <td>B3222</td>\n",
       "      <td>8008</td>\n",
       "      <td>Machined Valve</td>\n",
       "      <td>$645.00</td>\n",
       "      <td>150</td>\n",
       "      <td>96750.0</td>\n",
       "      <td>30</td>\n",
       "      <td>10/15/2011</td>\n",
       "      <td>10/26/2011</td>\n",
       "    </tr>\n",
       "    <tr>\n",
       "      <th>90</th>\n",
       "      <td>Steelpin Inc.</td>\n",
       "      <td>B3333</td>\n",
       "      <td>8008</td>\n",
       "      <td>Machined Valve</td>\n",
       "      <td>$645.00</td>\n",
       "      <td>100</td>\n",
       "      <td>64500.0</td>\n",
       "      <td>30</td>\n",
       "      <td>10/10/2011</td>\n",
       "      <td>10/21/2011</td>\n",
       "    </tr>\n",
       "    <tr>\n",
       "      <th>91</th>\n",
       "      <td>Steelpin Inc.</td>\n",
       "      <td>C0456</td>\n",
       "      <td>5677</td>\n",
       "      <td>Side Panel</td>\n",
       "      <td>$195.00</td>\n",
       "      <td>130</td>\n",
       "      <td>25350.0</td>\n",
       "      <td>30</td>\n",
       "      <td>10/28/2011</td>\n",
       "      <td>11/7/2011</td>\n",
       "    </tr>\n",
       "    <tr>\n",
       "      <th>92</th>\n",
       "      <td>Steelpin Inc.</td>\n",
       "      <td>C0467</td>\n",
       "      <td>8008</td>\n",
       "      <td>Machined Valve</td>\n",
       "      <td>$645.00</td>\n",
       "      <td>120</td>\n",
       "      <td>77400.0</td>\n",
       "      <td>30</td>\n",
       "      <td>10/28/2011</td>\n",
       "      <td>11/4/2011</td>\n",
       "    </tr>\n",
       "    <tr>\n",
       "      <th>93</th>\n",
       "      <td>Steelpin Inc.</td>\n",
       "      <td>C0589</td>\n",
       "      <td>5319</td>\n",
       "      <td>Shielded Cable/ft.</td>\n",
       "      <td>$1.10</td>\n",
       "      <td>18,100</td>\n",
       "      <td>19910.0</td>\n",
       "      <td>30</td>\n",
       "      <td>8/25/2011</td>\n",
       "      <td>9/5/2011</td>\n",
       "    </tr>\n",
       "  </tbody>\n",
       "</table>\n",
       "<p>94 rows × 10 columns</p>\n",
       "</div>"
      ],
      "text/plain": [
       "        Supplier  Order No.  Item No.    Item Description Item Cost Quantity  \\\n",
       "0   Alum Sheeting     A0223      4224    Bolt-nut package    $3.95     4,500   \n",
       "1   Alum Sheeting     A0433      5417       Control Panel  $255.00       500   \n",
       "2   Alum Sheeting     A0443      1243  Airframe fasteners    $4.25    10,000   \n",
       "3   Alum Sheeting     A0446      5417       Control Panel  $255.00       406   \n",
       "4   Alum Sheeting     B0247      1243  Airframe fasteners    $4.25     9,000   \n",
       "..            ...       ...       ...                 ...       ...      ...   \n",
       "89  Steelpin Inc.     B3222      8008      Machined Valve  $645.00       150   \n",
       "90  Steelpin Inc.     B3333      8008      Machined Valve  $645.00       100   \n",
       "91  Steelpin Inc.     C0456      5677          Side Panel  $195.00       130   \n",
       "92  Steelpin Inc.     C0467      8008      Machined Valve  $645.00       120   \n",
       "93  Steelpin Inc.     C0589      5319  Shielded Cable/ft.    $1.10    18,100   \n",
       "\n",
       "    Cost per order  A/P Terms (Months)  Order Date Arrival Date  \n",
       "0          17775.0                  30  10/15/2011   10/20/2011  \n",
       "1         127500.0                  30  10/20/2011   10/27/2011  \n",
       "2          42500.0                  30    8/8/2011    8/14/2011  \n",
       "3         103530.0                  30    9/1/2011    9/10/2011  \n",
       "4          38250.0                  30    9/5/2011    9/12/2011  \n",
       "..             ...                 ...         ...          ...  \n",
       "89         96750.0                  30  10/15/2011   10/26/2011  \n",
       "90         64500.0                  30  10/10/2011   10/21/2011  \n",
       "91         25350.0                  30  10/28/2011    11/7/2011  \n",
       "92         77400.0                  30  10/28/2011    11/4/2011  \n",
       "93         19910.0                  30   8/25/2011     9/5/2011  \n",
       "\n",
       "[94 rows x 10 columns]"
      ]
     },
     "execution_count": 2,
     "metadata": {},
     "output_type": "execute_result"
    }
   ],
   "source": [
    "cost = pd.read_csv(\"Purchase Orders.csv\")\n",
    "cost"
   ]
  },
  {
   "cell_type": "code",
   "execution_count": 3,
   "id": "0b2bd8b8",
   "metadata": {},
   "outputs": [
    {
     "data": {
      "text/plain": [
       "94"
      ]
     },
     "execution_count": 3,
     "metadata": {},
     "output_type": "execute_result"
    }
   ],
   "source": [
    "len(cost)"
   ]
  },
  {
   "cell_type": "code",
   "execution_count": 4,
   "id": "4fe6c907",
   "metadata": {},
   "outputs": [
    {
     "data": {
      "text/plain": [
       "'A/P Terms (Months)'"
      ]
     },
     "execution_count": 4,
     "metadata": {},
     "output_type": "execute_result"
    }
   ],
   "source": [
    "min(cost)"
   ]
  },
  {
   "cell_type": "code",
   "execution_count": 6,
   "id": "7e3b8aa3",
   "metadata": {},
   "outputs": [
    {
     "ename": "SyntaxError",
     "evalue": "invalid syntax (1204183145.py, line 1)",
     "output_type": "error",
     "traceback": [
      "\u001b[1;36m  Input \u001b[1;32mIn [6]\u001b[1;36m\u001b[0m\n\u001b[1;33m    len(cost.Cost per order)\u001b[0m\n\u001b[1;37m                  ^\u001b[0m\n\u001b[1;31mSyntaxError\u001b[0m\u001b[1;31m:\u001b[0m invalid syntax\n"
     ]
    }
   ],
   "source": [
    "len(cost.Cost per order)"
   ]
  },
  {
   "cell_type": "markdown",
   "id": "510cefa4",
   "metadata": {},
   "source": [
    "min(cost.Cost per order)"
   ]
  },
  {
   "cell_type": "code",
   "execution_count": 7,
   "id": "a2c95356",
   "metadata": {},
   "outputs": [
    {
     "ename": "SyntaxError",
     "evalue": "invalid syntax (1649070115.py, line 1)",
     "output_type": "error",
     "traceback": [
      "\u001b[1;36m  Input \u001b[1;32mIn [7]\u001b[1;36m\u001b[0m\n\u001b[1;33m    min(cost.Cost per order)\u001b[0m\n\u001b[1;37m                  ^\u001b[0m\n\u001b[1;31mSyntaxError\u001b[0m\u001b[1;31m:\u001b[0m invalid syntax\n"
     ]
    }
   ],
   "source": [
    "min(cost.Cost per order)"
   ]
  },
  {
   "cell_type": "code",
   "execution_count": 8,
   "id": "8fe4dfd6",
   "metadata": {},
   "outputs": [
    {
     "data": {
      "text/plain": [
       "'1,050'"
      ]
     },
     "execution_count": 8,
     "metadata": {},
     "output_type": "execute_result"
    }
   ],
   "source": [
    "min(cost.Quantity)"
   ]
  },
  {
   "cell_type": "code",
   "execution_count": 9,
   "id": "fcc23f33",
   "metadata": {},
   "outputs": [
    {
     "ename": "AttributeError",
     "evalue": "'DataFrame' object has no attribute 'Cost_per_order'",
     "output_type": "error",
     "traceback": [
      "\u001b[1;31m---------------------------------------------------------------------------\u001b[0m",
      "\u001b[1;31mAttributeError\u001b[0m                            Traceback (most recent call last)",
      "Input \u001b[1;32mIn [9]\u001b[0m, in \u001b[0;36m<cell line: 1>\u001b[1;34m()\u001b[0m\n\u001b[1;32m----> 1\u001b[0m \u001b[38;5;28mmin\u001b[39m(\u001b[43mcost\u001b[49m\u001b[38;5;241;43m.\u001b[39;49m\u001b[43mCost_per_order\u001b[49m)\n",
      "File \u001b[1;32m~\\AppData\\Local\\Programs\\Python\\Python39\\lib\\site-packages\\pandas\\core\\generic.py:5583\u001b[0m, in \u001b[0;36mNDFrame.__getattr__\u001b[1;34m(self, name)\u001b[0m\n\u001b[0;32m   5576\u001b[0m \u001b[38;5;28;01mif\u001b[39;00m (\n\u001b[0;32m   5577\u001b[0m     name \u001b[38;5;129;01mnot\u001b[39;00m \u001b[38;5;129;01min\u001b[39;00m \u001b[38;5;28mself\u001b[39m\u001b[38;5;241m.\u001b[39m_internal_names_set\n\u001b[0;32m   5578\u001b[0m     \u001b[38;5;129;01mand\u001b[39;00m name \u001b[38;5;129;01mnot\u001b[39;00m \u001b[38;5;129;01min\u001b[39;00m \u001b[38;5;28mself\u001b[39m\u001b[38;5;241m.\u001b[39m_metadata\n\u001b[0;32m   5579\u001b[0m     \u001b[38;5;129;01mand\u001b[39;00m name \u001b[38;5;129;01mnot\u001b[39;00m \u001b[38;5;129;01min\u001b[39;00m \u001b[38;5;28mself\u001b[39m\u001b[38;5;241m.\u001b[39m_accessors\n\u001b[0;32m   5580\u001b[0m     \u001b[38;5;129;01mand\u001b[39;00m \u001b[38;5;28mself\u001b[39m\u001b[38;5;241m.\u001b[39m_info_axis\u001b[38;5;241m.\u001b[39m_can_hold_identifiers_and_holds_name(name)\n\u001b[0;32m   5581\u001b[0m ):\n\u001b[0;32m   5582\u001b[0m     \u001b[38;5;28;01mreturn\u001b[39;00m \u001b[38;5;28mself\u001b[39m[name]\n\u001b[1;32m-> 5583\u001b[0m \u001b[38;5;28;01mreturn\u001b[39;00m \u001b[38;5;28;43mobject\u001b[39;49m\u001b[38;5;241;43m.\u001b[39;49m\u001b[38;5;21;43m__getattribute__\u001b[39;49m\u001b[43m(\u001b[49m\u001b[38;5;28;43mself\u001b[39;49m\u001b[43m,\u001b[49m\u001b[43m \u001b[49m\u001b[43mname\u001b[49m\u001b[43m)\u001b[49m\n",
      "\u001b[1;31mAttributeError\u001b[0m: 'DataFrame' object has no attribute 'Cost_per_order'"
     ]
    }
   ],
   "source": [
    "min(cost.Cost_per_order)"
   ]
  },
  {
   "cell_type": "code",
   "execution_count": 10,
   "id": "ac1eb95a",
   "metadata": {},
   "outputs": [
    {
     "ename": "AttributeError",
     "evalue": "'DataFrame' object has no attribute 'Cost'",
     "output_type": "error",
     "traceback": [
      "\u001b[1;31m---------------------------------------------------------------------------\u001b[0m",
      "\u001b[1;31mAttributeError\u001b[0m                            Traceback (most recent call last)",
      "Input \u001b[1;32mIn [10]\u001b[0m, in \u001b[0;36m<cell line: 1>\u001b[1;34m()\u001b[0m\n\u001b[1;32m----> 1\u001b[0m \u001b[38;5;28mmin\u001b[39m(\u001b[43mcost\u001b[49m\u001b[38;5;241;43m.\u001b[39;49m\u001b[43mCost\u001b[49m)\n",
      "File \u001b[1;32m~\\AppData\\Local\\Programs\\Python\\Python39\\lib\\site-packages\\pandas\\core\\generic.py:5583\u001b[0m, in \u001b[0;36mNDFrame.__getattr__\u001b[1;34m(self, name)\u001b[0m\n\u001b[0;32m   5576\u001b[0m \u001b[38;5;28;01mif\u001b[39;00m (\n\u001b[0;32m   5577\u001b[0m     name \u001b[38;5;129;01mnot\u001b[39;00m \u001b[38;5;129;01min\u001b[39;00m \u001b[38;5;28mself\u001b[39m\u001b[38;5;241m.\u001b[39m_internal_names_set\n\u001b[0;32m   5578\u001b[0m     \u001b[38;5;129;01mand\u001b[39;00m name \u001b[38;5;129;01mnot\u001b[39;00m \u001b[38;5;129;01min\u001b[39;00m \u001b[38;5;28mself\u001b[39m\u001b[38;5;241m.\u001b[39m_metadata\n\u001b[0;32m   5579\u001b[0m     \u001b[38;5;129;01mand\u001b[39;00m name \u001b[38;5;129;01mnot\u001b[39;00m \u001b[38;5;129;01min\u001b[39;00m \u001b[38;5;28mself\u001b[39m\u001b[38;5;241m.\u001b[39m_accessors\n\u001b[0;32m   5580\u001b[0m     \u001b[38;5;129;01mand\u001b[39;00m \u001b[38;5;28mself\u001b[39m\u001b[38;5;241m.\u001b[39m_info_axis\u001b[38;5;241m.\u001b[39m_can_hold_identifiers_and_holds_name(name)\n\u001b[0;32m   5581\u001b[0m ):\n\u001b[0;32m   5582\u001b[0m     \u001b[38;5;28;01mreturn\u001b[39;00m \u001b[38;5;28mself\u001b[39m[name]\n\u001b[1;32m-> 5583\u001b[0m \u001b[38;5;28;01mreturn\u001b[39;00m \u001b[38;5;28;43mobject\u001b[39;49m\u001b[38;5;241;43m.\u001b[39;49m\u001b[38;5;21;43m__getattribute__\u001b[39;49m\u001b[43m(\u001b[49m\u001b[38;5;28;43mself\u001b[39;49m\u001b[43m,\u001b[49m\u001b[43m \u001b[49m\u001b[43mname\u001b[49m\u001b[43m)\u001b[49m\n",
      "\u001b[1;31mAttributeError\u001b[0m: 'DataFrame' object has no attribute 'Cost'"
     ]
    }
   ],
   "source": [
    "min(cost.Cost)"
   ]
  },
  {
   "cell_type": "code",
   "execution_count": 11,
   "id": "2ffb941d",
   "metadata": {},
   "outputs": [
    {
     "ename": "SyntaxError",
     "evalue": "EOL while scanning string literal (1364704111.py, line 1)",
     "output_type": "error",
     "traceback": [
      "\u001b[1;36m  Input \u001b[1;32mIn [11]\u001b[1;36m\u001b[0m\n\u001b[1;33m    df = df.rename(columns={'Cost per order': 'cpo})\u001b[0m\n\u001b[1;37m                                                    ^\u001b[0m\n\u001b[1;31mSyntaxError\u001b[0m\u001b[1;31m:\u001b[0m EOL while scanning string literal\n"
     ]
    }
   ],
   "source": [
    "df = df.rename(columns={'Cost per order': 'cpo})"
   ]
  },
  {
   "cell_type": "code",
   "execution_count": 12,
   "id": "674144e3",
   "metadata": {},
   "outputs": [
    {
     "data": {
      "text/html": [
       "<div>\n",
       "<style scoped>\n",
       "    .dataframe tbody tr th:only-of-type {\n",
       "        vertical-align: middle;\n",
       "    }\n",
       "\n",
       "    .dataframe tbody tr th {\n",
       "        vertical-align: top;\n",
       "    }\n",
       "\n",
       "    .dataframe thead th {\n",
       "        text-align: right;\n",
       "    }\n",
       "</style>\n",
       "<table border=\"1\" class=\"dataframe\">\n",
       "  <thead>\n",
       "    <tr style=\"text-align: right;\">\n",
       "      <th></th>\n",
       "      <th>Supplier</th>\n",
       "      <th>Order No.</th>\n",
       "      <th>Item No.</th>\n",
       "      <th>Item Description</th>\n",
       "      <th>Item Cost</th>\n",
       "      <th>Quantity</th>\n",
       "      <th>Cost per order</th>\n",
       "      <th>A/P Terms (Months)</th>\n",
       "      <th>Order Date</th>\n",
       "      <th>Arrival Date</th>\n",
       "    </tr>\n",
       "  </thead>\n",
       "  <tbody>\n",
       "    <tr>\n",
       "      <th>0</th>\n",
       "      <td>Alum Sheeting</td>\n",
       "      <td>A0223</td>\n",
       "      <td>4224</td>\n",
       "      <td>Bolt-nut package</td>\n",
       "      <td>$3.95</td>\n",
       "      <td>4,500</td>\n",
       "      <td>17775.0</td>\n",
       "      <td>30</td>\n",
       "      <td>10/15/2011</td>\n",
       "      <td>10/20/2011</td>\n",
       "    </tr>\n",
       "    <tr>\n",
       "      <th>1</th>\n",
       "      <td>Alum Sheeting</td>\n",
       "      <td>A0433</td>\n",
       "      <td>5417</td>\n",
       "      <td>Control Panel</td>\n",
       "      <td>$255.00</td>\n",
       "      <td>500</td>\n",
       "      <td>127500.0</td>\n",
       "      <td>30</td>\n",
       "      <td>10/20/2011</td>\n",
       "      <td>10/27/2011</td>\n",
       "    </tr>\n",
       "    <tr>\n",
       "      <th>2</th>\n",
       "      <td>Alum Sheeting</td>\n",
       "      <td>A0443</td>\n",
       "      <td>1243</td>\n",
       "      <td>Airframe fasteners</td>\n",
       "      <td>$4.25</td>\n",
       "      <td>10,000</td>\n",
       "      <td>42500.0</td>\n",
       "      <td>30</td>\n",
       "      <td>8/8/2011</td>\n",
       "      <td>8/14/2011</td>\n",
       "    </tr>\n",
       "    <tr>\n",
       "      <th>3</th>\n",
       "      <td>Alum Sheeting</td>\n",
       "      <td>A0446</td>\n",
       "      <td>5417</td>\n",
       "      <td>Control Panel</td>\n",
       "      <td>$255.00</td>\n",
       "      <td>406</td>\n",
       "      <td>103530.0</td>\n",
       "      <td>30</td>\n",
       "      <td>9/1/2011</td>\n",
       "      <td>9/10/2011</td>\n",
       "    </tr>\n",
       "    <tr>\n",
       "      <th>4</th>\n",
       "      <td>Alum Sheeting</td>\n",
       "      <td>B0247</td>\n",
       "      <td>1243</td>\n",
       "      <td>Airframe fasteners</td>\n",
       "      <td>$4.25</td>\n",
       "      <td>9,000</td>\n",
       "      <td>38250.0</td>\n",
       "      <td>30</td>\n",
       "      <td>9/5/2011</td>\n",
       "      <td>9/12/2011</td>\n",
       "    </tr>\n",
       "    <tr>\n",
       "      <th>...</th>\n",
       "      <td>...</td>\n",
       "      <td>...</td>\n",
       "      <td>...</td>\n",
       "      <td>...</td>\n",
       "      <td>...</td>\n",
       "      <td>...</td>\n",
       "      <td>...</td>\n",
       "      <td>...</td>\n",
       "      <td>...</td>\n",
       "      <td>...</td>\n",
       "    </tr>\n",
       "    <tr>\n",
       "      <th>89</th>\n",
       "      <td>Steelpin Inc.</td>\n",
       "      <td>B3222</td>\n",
       "      <td>8008</td>\n",
       "      <td>Machined Valve</td>\n",
       "      <td>$645.00</td>\n",
       "      <td>150</td>\n",
       "      <td>96750.0</td>\n",
       "      <td>30</td>\n",
       "      <td>10/15/2011</td>\n",
       "      <td>10/26/2011</td>\n",
       "    </tr>\n",
       "    <tr>\n",
       "      <th>90</th>\n",
       "      <td>Steelpin Inc.</td>\n",
       "      <td>B3333</td>\n",
       "      <td>8008</td>\n",
       "      <td>Machined Valve</td>\n",
       "      <td>$645.00</td>\n",
       "      <td>100</td>\n",
       "      <td>64500.0</td>\n",
       "      <td>30</td>\n",
       "      <td>10/10/2011</td>\n",
       "      <td>10/21/2011</td>\n",
       "    </tr>\n",
       "    <tr>\n",
       "      <th>91</th>\n",
       "      <td>Steelpin Inc.</td>\n",
       "      <td>C0456</td>\n",
       "      <td>5677</td>\n",
       "      <td>Side Panel</td>\n",
       "      <td>$195.00</td>\n",
       "      <td>130</td>\n",
       "      <td>25350.0</td>\n",
       "      <td>30</td>\n",
       "      <td>10/28/2011</td>\n",
       "      <td>11/7/2011</td>\n",
       "    </tr>\n",
       "    <tr>\n",
       "      <th>92</th>\n",
       "      <td>Steelpin Inc.</td>\n",
       "      <td>C0467</td>\n",
       "      <td>8008</td>\n",
       "      <td>Machined Valve</td>\n",
       "      <td>$645.00</td>\n",
       "      <td>120</td>\n",
       "      <td>77400.0</td>\n",
       "      <td>30</td>\n",
       "      <td>10/28/2011</td>\n",
       "      <td>11/4/2011</td>\n",
       "    </tr>\n",
       "    <tr>\n",
       "      <th>93</th>\n",
       "      <td>Steelpin Inc.</td>\n",
       "      <td>C0589</td>\n",
       "      <td>5319</td>\n",
       "      <td>Shielded Cable/ft.</td>\n",
       "      <td>$1.10</td>\n",
       "      <td>18,100</td>\n",
       "      <td>19910.0</td>\n",
       "      <td>30</td>\n",
       "      <td>8/25/2011</td>\n",
       "      <td>9/5/2011</td>\n",
       "    </tr>\n",
       "  </tbody>\n",
       "</table>\n",
       "<p>94 rows × 10 columns</p>\n",
       "</div>"
      ],
      "text/plain": [
       "        Supplier  Order No.  Item No.    Item Description Item Cost Quantity  \\\n",
       "0   Alum Sheeting     A0223      4224    Bolt-nut package    $3.95     4,500   \n",
       "1   Alum Sheeting     A0433      5417       Control Panel  $255.00       500   \n",
       "2   Alum Sheeting     A0443      1243  Airframe fasteners    $4.25    10,000   \n",
       "3   Alum Sheeting     A0446      5417       Control Panel  $255.00       406   \n",
       "4   Alum Sheeting     B0247      1243  Airframe fasteners    $4.25     9,000   \n",
       "..            ...       ...       ...                 ...       ...      ...   \n",
       "89  Steelpin Inc.     B3222      8008      Machined Valve  $645.00       150   \n",
       "90  Steelpin Inc.     B3333      8008      Machined Valve  $645.00       100   \n",
       "91  Steelpin Inc.     C0456      5677          Side Panel  $195.00       130   \n",
       "92  Steelpin Inc.     C0467      8008      Machined Valve  $645.00       120   \n",
       "93  Steelpin Inc.     C0589      5319  Shielded Cable/ft.    $1.10    18,100   \n",
       "\n",
       "    Cost per order  A/P Terms (Months)  Order Date Arrival Date  \n",
       "0          17775.0                  30  10/15/2011   10/20/2011  \n",
       "1         127500.0                  30  10/20/2011   10/27/2011  \n",
       "2          42500.0                  30    8/8/2011    8/14/2011  \n",
       "3         103530.0                  30    9/1/2011    9/10/2011  \n",
       "4          38250.0                  30    9/5/2011    9/12/2011  \n",
       "..             ...                 ...         ...          ...  \n",
       "89         96750.0                  30  10/15/2011   10/26/2011  \n",
       "90         64500.0                  30  10/10/2011   10/21/2011  \n",
       "91         25350.0                  30  10/28/2011    11/7/2011  \n",
       "92         77400.0                  30  10/28/2011    11/4/2011  \n",
       "93         19910.0                  30   8/25/2011     9/5/2011  \n",
       "\n",
       "[94 rows x 10 columns]"
      ]
     },
     "execution_count": 12,
     "metadata": {},
     "output_type": "execute_result"
    }
   ],
   "source": [
    "cost"
   ]
  },
  {
   "cell_type": "code",
   "execution_count": 13,
   "id": "a3858103",
   "metadata": {},
   "outputs": [
    {
     "ename": "SyntaxError",
     "evalue": "EOL while scanning string literal (3170000241.py, line 1)",
     "output_type": "error",
     "traceback": [
      "\u001b[1;36m  Input \u001b[1;32mIn [13]\u001b[1;36m\u001b[0m\n\u001b[1;33m    cost=cost.rename(columns={'Cost per order': 'cpo})\u001b[0m\n\u001b[1;37m                                                      ^\u001b[0m\n\u001b[1;31mSyntaxError\u001b[0m\u001b[1;31m:\u001b[0m EOL while scanning string literal\n"
     ]
    }
   ],
   "source": [
    "cost=cost.rename(columns={'Cost per order': 'cpo})\n",
    "                          "
   ]
  },
  {
   "cell_type": "code",
   "execution_count": 14,
   "id": "73274a31",
   "metadata": {},
   "outputs": [
    {
     "ename": "SyntaxError",
     "evalue": "EOL while scanning string literal (1132745275.py, line 1)",
     "output_type": "error",
     "traceback": [
      "\u001b[1;36m  Input \u001b[1;32mIn [14]\u001b[1;36m\u001b[0m\n\u001b[1;33m    df = df.rename(columns={'Cost per order': 'cpo’})\u001b[0m\n\u001b[1;37m                                                     ^\u001b[0m\n\u001b[1;31mSyntaxError\u001b[0m\u001b[1;31m:\u001b[0m EOL while scanning string literal\n"
     ]
    }
   ],
   "source": [
    "df = df.rename(columns={'Cost per order': 'cpo’})"
   ]
  },
  {
   "cell_type": "code",
   "execution_count": 15,
   "id": "9a103665",
   "metadata": {},
   "outputs": [
    {
     "ename": "NameError",
     "evalue": "name 'df' is not defined",
     "output_type": "error",
     "traceback": [
      "\u001b[1;31m---------------------------------------------------------------------------\u001b[0m",
      "\u001b[1;31mNameError\u001b[0m                                 Traceback (most recent call last)",
      "Input \u001b[1;32mIn [15]\u001b[0m, in \u001b[0;36m<cell line: 1>\u001b[1;34m()\u001b[0m\n\u001b[1;32m----> 1\u001b[0m df \u001b[38;5;241m=\u001b[39m \u001b[43mdf\u001b[49m\u001b[38;5;241m.\u001b[39mrename(columns\u001b[38;5;241m=\u001b[39m{\u001b[38;5;124m'\u001b[39m\u001b[38;5;124mCost per order\u001b[39m\u001b[38;5;124m'\u001b[39m: \u001b[38;5;124m'\u001b[39m\u001b[38;5;124mcpo\u001b[39m\u001b[38;5;124m'\u001b[39m})\n",
      "\u001b[1;31mNameError\u001b[0m: name 'df' is not defined"
     ]
    }
   ],
   "source": [
    "df = df.rename(columns={'Cost per order': 'cpo'})"
   ]
  },
  {
   "cell_type": "code",
   "execution_count": 16,
   "id": "7b06bc52",
   "metadata": {},
   "outputs": [],
   "source": [
    "cost=cost.rename(columns={'Cost per order': 'cpo'})"
   ]
  },
  {
   "cell_type": "code",
   "execution_count": 17,
   "id": "b28c4712",
   "metadata": {},
   "outputs": [
    {
     "data": {
      "text/html": [
       "<div>\n",
       "<style scoped>\n",
       "    .dataframe tbody tr th:only-of-type {\n",
       "        vertical-align: middle;\n",
       "    }\n",
       "\n",
       "    .dataframe tbody tr th {\n",
       "        vertical-align: top;\n",
       "    }\n",
       "\n",
       "    .dataframe thead th {\n",
       "        text-align: right;\n",
       "    }\n",
       "</style>\n",
       "<table border=\"1\" class=\"dataframe\">\n",
       "  <thead>\n",
       "    <tr style=\"text-align: right;\">\n",
       "      <th></th>\n",
       "      <th>Supplier</th>\n",
       "      <th>Order No.</th>\n",
       "      <th>Item No.</th>\n",
       "      <th>Item Description</th>\n",
       "      <th>Item Cost</th>\n",
       "      <th>Quantity</th>\n",
       "      <th>cpo</th>\n",
       "      <th>A/P Terms (Months)</th>\n",
       "      <th>Order Date</th>\n",
       "      <th>Arrival Date</th>\n",
       "    </tr>\n",
       "  </thead>\n",
       "  <tbody>\n",
       "    <tr>\n",
       "      <th>0</th>\n",
       "      <td>Alum Sheeting</td>\n",
       "      <td>A0223</td>\n",
       "      <td>4224</td>\n",
       "      <td>Bolt-nut package</td>\n",
       "      <td>$3.95</td>\n",
       "      <td>4,500</td>\n",
       "      <td>17775.0</td>\n",
       "      <td>30</td>\n",
       "      <td>10/15/2011</td>\n",
       "      <td>10/20/2011</td>\n",
       "    </tr>\n",
       "    <tr>\n",
       "      <th>1</th>\n",
       "      <td>Alum Sheeting</td>\n",
       "      <td>A0433</td>\n",
       "      <td>5417</td>\n",
       "      <td>Control Panel</td>\n",
       "      <td>$255.00</td>\n",
       "      <td>500</td>\n",
       "      <td>127500.0</td>\n",
       "      <td>30</td>\n",
       "      <td>10/20/2011</td>\n",
       "      <td>10/27/2011</td>\n",
       "    </tr>\n",
       "    <tr>\n",
       "      <th>2</th>\n",
       "      <td>Alum Sheeting</td>\n",
       "      <td>A0443</td>\n",
       "      <td>1243</td>\n",
       "      <td>Airframe fasteners</td>\n",
       "      <td>$4.25</td>\n",
       "      <td>10,000</td>\n",
       "      <td>42500.0</td>\n",
       "      <td>30</td>\n",
       "      <td>8/8/2011</td>\n",
       "      <td>8/14/2011</td>\n",
       "    </tr>\n",
       "    <tr>\n",
       "      <th>3</th>\n",
       "      <td>Alum Sheeting</td>\n",
       "      <td>A0446</td>\n",
       "      <td>5417</td>\n",
       "      <td>Control Panel</td>\n",
       "      <td>$255.00</td>\n",
       "      <td>406</td>\n",
       "      <td>103530.0</td>\n",
       "      <td>30</td>\n",
       "      <td>9/1/2011</td>\n",
       "      <td>9/10/2011</td>\n",
       "    </tr>\n",
       "    <tr>\n",
       "      <th>4</th>\n",
       "      <td>Alum Sheeting</td>\n",
       "      <td>B0247</td>\n",
       "      <td>1243</td>\n",
       "      <td>Airframe fasteners</td>\n",
       "      <td>$4.25</td>\n",
       "      <td>9,000</td>\n",
       "      <td>38250.0</td>\n",
       "      <td>30</td>\n",
       "      <td>9/5/2011</td>\n",
       "      <td>9/12/2011</td>\n",
       "    </tr>\n",
       "    <tr>\n",
       "      <th>...</th>\n",
       "      <td>...</td>\n",
       "      <td>...</td>\n",
       "      <td>...</td>\n",
       "      <td>...</td>\n",
       "      <td>...</td>\n",
       "      <td>...</td>\n",
       "      <td>...</td>\n",
       "      <td>...</td>\n",
       "      <td>...</td>\n",
       "      <td>...</td>\n",
       "    </tr>\n",
       "    <tr>\n",
       "      <th>89</th>\n",
       "      <td>Steelpin Inc.</td>\n",
       "      <td>B3222</td>\n",
       "      <td>8008</td>\n",
       "      <td>Machined Valve</td>\n",
       "      <td>$645.00</td>\n",
       "      <td>150</td>\n",
       "      <td>96750.0</td>\n",
       "      <td>30</td>\n",
       "      <td>10/15/2011</td>\n",
       "      <td>10/26/2011</td>\n",
       "    </tr>\n",
       "    <tr>\n",
       "      <th>90</th>\n",
       "      <td>Steelpin Inc.</td>\n",
       "      <td>B3333</td>\n",
       "      <td>8008</td>\n",
       "      <td>Machined Valve</td>\n",
       "      <td>$645.00</td>\n",
       "      <td>100</td>\n",
       "      <td>64500.0</td>\n",
       "      <td>30</td>\n",
       "      <td>10/10/2011</td>\n",
       "      <td>10/21/2011</td>\n",
       "    </tr>\n",
       "    <tr>\n",
       "      <th>91</th>\n",
       "      <td>Steelpin Inc.</td>\n",
       "      <td>C0456</td>\n",
       "      <td>5677</td>\n",
       "      <td>Side Panel</td>\n",
       "      <td>$195.00</td>\n",
       "      <td>130</td>\n",
       "      <td>25350.0</td>\n",
       "      <td>30</td>\n",
       "      <td>10/28/2011</td>\n",
       "      <td>11/7/2011</td>\n",
       "    </tr>\n",
       "    <tr>\n",
       "      <th>92</th>\n",
       "      <td>Steelpin Inc.</td>\n",
       "      <td>C0467</td>\n",
       "      <td>8008</td>\n",
       "      <td>Machined Valve</td>\n",
       "      <td>$645.00</td>\n",
       "      <td>120</td>\n",
       "      <td>77400.0</td>\n",
       "      <td>30</td>\n",
       "      <td>10/28/2011</td>\n",
       "      <td>11/4/2011</td>\n",
       "    </tr>\n",
       "    <tr>\n",
       "      <th>93</th>\n",
       "      <td>Steelpin Inc.</td>\n",
       "      <td>C0589</td>\n",
       "      <td>5319</td>\n",
       "      <td>Shielded Cable/ft.</td>\n",
       "      <td>$1.10</td>\n",
       "      <td>18,100</td>\n",
       "      <td>19910.0</td>\n",
       "      <td>30</td>\n",
       "      <td>8/25/2011</td>\n",
       "      <td>9/5/2011</td>\n",
       "    </tr>\n",
       "  </tbody>\n",
       "</table>\n",
       "<p>94 rows × 10 columns</p>\n",
       "</div>"
      ],
      "text/plain": [
       "        Supplier  Order No.  Item No.    Item Description Item Cost Quantity  \\\n",
       "0   Alum Sheeting     A0223      4224    Bolt-nut package    $3.95     4,500   \n",
       "1   Alum Sheeting     A0433      5417       Control Panel  $255.00       500   \n",
       "2   Alum Sheeting     A0443      1243  Airframe fasteners    $4.25    10,000   \n",
       "3   Alum Sheeting     A0446      5417       Control Panel  $255.00       406   \n",
       "4   Alum Sheeting     B0247      1243  Airframe fasteners    $4.25     9,000   \n",
       "..            ...       ...       ...                 ...       ...      ...   \n",
       "89  Steelpin Inc.     B3222      8008      Machined Valve  $645.00       150   \n",
       "90  Steelpin Inc.     B3333      8008      Machined Valve  $645.00       100   \n",
       "91  Steelpin Inc.     C0456      5677          Side Panel  $195.00       130   \n",
       "92  Steelpin Inc.     C0467      8008      Machined Valve  $645.00       120   \n",
       "93  Steelpin Inc.     C0589      5319  Shielded Cable/ft.    $1.10    18,100   \n",
       "\n",
       "         cpo  A/P Terms (Months)  Order Date Arrival Date  \n",
       "0    17775.0                  30  10/15/2011   10/20/2011  \n",
       "1   127500.0                  30  10/20/2011   10/27/2011  \n",
       "2    42500.0                  30    8/8/2011    8/14/2011  \n",
       "3   103530.0                  30    9/1/2011    9/10/2011  \n",
       "4    38250.0                  30    9/5/2011    9/12/2011  \n",
       "..       ...                 ...         ...          ...  \n",
       "89   96750.0                  30  10/15/2011   10/26/2011  \n",
       "90   64500.0                  30  10/10/2011   10/21/2011  \n",
       "91   25350.0                  30  10/28/2011    11/7/2011  \n",
       "92   77400.0                  30  10/28/2011    11/4/2011  \n",
       "93   19910.0                  30   8/25/2011     9/5/2011  \n",
       "\n",
       "[94 rows x 10 columns]"
      ]
     },
     "execution_count": 17,
     "metadata": {},
     "output_type": "execute_result"
    }
   ],
   "source": [
    "cost"
   ]
  },
  {
   "cell_type": "code",
   "execution_count": 18,
   "id": "6288c697",
   "metadata": {},
   "outputs": [
    {
     "data": {
      "text/plain": [
       "68.75"
      ]
     },
     "execution_count": 18,
     "metadata": {},
     "output_type": "execute_result"
    }
   ],
   "source": [
    "min(cost.cpo)"
   ]
  },
  {
   "cell_type": "code",
   "execution_count": 19,
   "id": "1bcb5c29",
   "metadata": {},
   "outputs": [
    {
     "data": {
      "text/plain": [
       "127500.0"
      ]
     },
     "execution_count": 19,
     "metadata": {},
     "output_type": "execute_result"
    }
   ],
   "source": [
    "max(cost.cpo)"
   ]
  },
  {
   "cell_type": "code",
   "execution_count": 20,
   "id": "ef18be0f",
   "metadata": {},
   "outputs": [
    {
     "data": {
      "text/plain": [
       "26295.31914893617"
      ]
     },
     "execution_count": 20,
     "metadata": {},
     "output_type": "execute_result"
    }
   ],
   "source": [
    "st.mean(cost.cpo)"
   ]
  },
  {
   "cell_type": "code",
   "execution_count": 21,
   "id": "db60fa5e",
   "metadata": {},
   "outputs": [
    {
     "data": {
      "text/plain": [
       "15656.25"
      ]
     },
     "execution_count": 21,
     "metadata": {},
     "output_type": "execute_result"
    }
   ],
   "source": [
    "st.median(cost.cpo)"
   ]
  },
  {
   "cell_type": "code",
   "execution_count": 22,
   "id": "f7db7506",
   "metadata": {},
   "outputs": [
    {
     "data": {
      "text/plain": [
       "127431.25"
      ]
     },
     "execution_count": 22,
     "metadata": {},
     "output_type": "execute_result"
    }
   ],
   "source": [
    "range = max(cost.cpo)- min(cost.cpo)\n",
    "range"
   ]
  },
  {
   "cell_type": "code",
   "execution_count": 23,
   "id": "81d20183",
   "metadata": {},
   "outputs": [],
   "source": [
    "from collections import Counter"
   ]
  },
  {
   "cell_type": "code",
   "execution_count": 24,
   "id": "d23d7cf3",
   "metadata": {},
   "outputs": [],
   "source": [
    "def my_mode(sample):\n",
    "...     c = Counter(sample)\n",
    "...     return [k for k, v in c.items() if v == c.most_common(1)[0][1]]"
   ]
  },
  {
   "cell_type": "code",
   "execution_count": 25,
   "id": "ad3de02c",
   "metadata": {},
   "outputs": [
    {
     "data": {
      "text/plain": [
       "[23625.0, 7062.5, 7425.0, 14910.0]"
      ]
     },
     "execution_count": 25,
     "metadata": {},
     "output_type": "execute_result"
    }
   ],
   "source": [
    "my_mode(cost.cpo)\n"
   ]
  },
  {
   "cell_type": "code",
   "execution_count": 26,
   "id": "8a81fc5d",
   "metadata": {},
   "outputs": [
    {
     "data": {
      "text/plain": [
       "890594573.8244681"
      ]
     },
     "execution_count": 26,
     "metadata": {},
     "output_type": "execute_result"
    }
   ],
   "source": [
    "st.variance(cost.cpo)"
   ]
  },
  {
   "cell_type": "code",
   "execution_count": 27,
   "id": "a9cb2f16",
   "metadata": {},
   "outputs": [
    {
     "data": {
      "text/plain": [
       "29842.831196528055"
      ]
     },
     "execution_count": 27,
     "metadata": {},
     "output_type": "execute_result"
    }
   ],
   "source": [
    "st.stdev(cost.cpo)"
   ]
  },
  {
   "cell_type": "code",
   "execution_count": 28,
   "id": "3ddebe6e",
   "metadata": {},
   "outputs": [],
   "source": [
    "cv = st.stdev(cost.cpo)/st.mean(cost.cpo)"
   ]
  },
  {
   "cell_type": "code",
   "execution_count": 29,
   "id": "7a885be1",
   "metadata": {},
   "outputs": [
    {
     "data": {
      "text/plain": [
       "1.1349104008777702"
      ]
     },
     "execution_count": 29,
     "metadata": {},
     "output_type": "execute_result"
    }
   ],
   "source": [
    "cv"
   ]
  },
  {
   "cell_type": "code",
   "execution_count": 30,
   "id": "c4580848",
   "metadata": {},
   "outputs": [
    {
     "data": {
      "text/plain": [
       "1.637595390600866"
      ]
     },
     "execution_count": 30,
     "metadata": {},
     "output_type": "execute_result"
    }
   ],
   "source": [
    "skew(cost.cpo)"
   ]
  },
  {
   "cell_type": "code",
   "execution_count": null,
   "id": "722a8c9e",
   "metadata": {},
   "outputs": [],
   "source": []
  },
  {
   "cell_type": "code",
   "execution_count": 32,
   "id": "5a02f015",
   "metadata": {},
   "outputs": [
    {
     "data": {
      "text/plain": [
       "1.9074955851197615"
      ]
     },
     "execution_count": 32,
     "metadata": {},
     "output_type": "execute_result"
    }
   ],
   "source": [
    "kurtosis(cost.cpo)"
   ]
  },
  {
   "cell_type": "code",
   "execution_count": 33,
   "id": "6db6647f",
   "metadata": {},
   "outputs": [
    {
     "data": {
      "text/plain": [
       "6757.8125"
      ]
     },
     "execution_count": 33,
     "metadata": {},
     "output_type": "execute_result"
    }
   ],
   "source": [
    "np.quantile(cost.cpo, 0.25)"
   ]
  },
  {
   "cell_type": "code",
   "execution_count": 34,
   "id": "dbd783ed",
   "metadata": {},
   "outputs": [
    {
     "ename": "SyntaxError",
     "evalue": "invalid syntax (1686563741.py, line 1)",
     "output_type": "error",
     "traceback": [
      "\u001b[1;36m  Input \u001b[1;32mIn [34]\u001b[1;36m\u001b[0m\n\u001b[1;33m    np.quantile(cost.cpo, 0.75)|\u001b[0m\n\u001b[1;37m                                ^\u001b[0m\n\u001b[1;31mSyntaxError\u001b[0m\u001b[1;31m:\u001b[0m invalid syntax\n"
     ]
    }
   ],
   "source": [
    "np.quantile(cost.cpo, 0.75)|"
   ]
  },
  {
   "cell_type": "code",
   "execution_count": 35,
   "id": "59b9a9e9",
   "metadata": {},
   "outputs": [
    {
     "data": {
      "text/plain": [
       "6757.8125"
      ]
     },
     "execution_count": 35,
     "metadata": {},
     "output_type": "execute_result"
    }
   ],
   "source": [
    "np.quantile(cost.cpo, 0.25)"
   ]
  },
  {
   "cell_type": "code",
   "execution_count": 36,
   "id": "1250c62a",
   "metadata": {},
   "outputs": [
    {
     "data": {
      "text/plain": [
       "27593.75"
      ]
     },
     "execution_count": 36,
     "metadata": {},
     "output_type": "execute_result"
    }
   ],
   "source": [
    "np.quantile(cost.cpo, 0.75)"
   ]
  },
  {
   "cell_type": "code",
   "execution_count": 37,
   "id": "7cc54247",
   "metadata": {},
   "outputs": [
    {
     "ename": "NameError",
     "evalue": "name 'quantile' is not defined",
     "output_type": "error",
     "traceback": [
      "\u001b[1;31m---------------------------------------------------------------------------\u001b[0m",
      "\u001b[1;31mNameError\u001b[0m                                 Traceback (most recent call last)",
      "Input \u001b[1;32mIn [37]\u001b[0m, in \u001b[0;36m<cell line: 2>\u001b[1;34m()\u001b[0m\n\u001b[0;32m      1\u001b[0m IQR \u001b[38;5;241m=\u001b[39m np\u001b[38;5;241m.\u001b[39mquantile(cost\u001b[38;5;241m.\u001b[39mcpo, \u001b[38;5;241m0.75\u001b[39m) \u001b[38;5;241m-\u001b[39m np\u001b[38;5;241m.\u001b[39mquantile(cost\u001b[38;5;241m.\u001b[39mcpo, \u001b[38;5;241m0.25\u001b[39m)\n\u001b[1;32m----> 2\u001b[0m \u001b[38;5;241m-\u001b[39m \u001b[43mquantile\u001b[49m(Cost\u001b[38;5;241m.\u001b[39mper\u001b[38;5;241m.\u001b[39morder, \u001b[38;5;241m0.25\u001b[39m)\n",
      "\u001b[1;31mNameError\u001b[0m: name 'quantile' is not defined"
     ]
    }
   ],
   "source": [
    "IQR = np.quantile(cost.cpo, 0.75) - np.quantile(cost.cpo, 0.25)\n",
    "- quantile(Cost.per.order, 0.25)\n",
    "\n",
    "\n",
    "\n",
    "\n",
    "\n"
   ]
  },
  {
   "cell_type": "code",
   "execution_count": 38,
   "id": "0bca3733",
   "metadata": {},
   "outputs": [],
   "source": [
    "IQR = np.quantile(cost.cpo, 0.75) - np.quantile(cost.cpo, 0.25)"
   ]
  },
  {
   "cell_type": "code",
   "execution_count": 39,
   "id": "17d8d704",
   "metadata": {},
   "outputs": [
    {
     "data": {
      "text/plain": [
       "20835.9375"
      ]
     },
     "execution_count": 39,
     "metadata": {},
     "output_type": "execute_result"
    }
   ],
   "source": [
    "IQR"
   ]
  },
  {
   "cell_type": "code",
   "execution_count": 46,
   "id": "9eeb84c2",
   "metadata": {},
   "outputs": [
    {
     "data": {
      "image/png": "[encoded data removed]",
      "text/plain": [
       "<Figure size 432x288 with 1 Axes>"
      ]
     },
     "metadata": {
      "needs_background": "light"
     },
     "output_type": "display_data"
    }
   ],
   "source": [
    "plt.boxplot(cost.cpo)\n",
    "plt.show()"
   ]
  },
  {
   "cell_type": "code",
   "execution_count": 41,
   "id": "8839d8b8",
   "metadata": {},
   "outputs": [
    {
     "ename": "NameError",
     "evalue": "name 'hist' is not defined",
     "output_type": "error",
     "traceback": [
      "\u001b[1;31m---------------------------------------------------------------------------\u001b[0m",
      "\u001b[1;31mNameError\u001b[0m                                 Traceback (most recent call last)",
      "Input \u001b[1;32mIn [41]\u001b[0m, in \u001b[0;36m<cell line: 1>\u001b[1;34m()\u001b[0m\n\u001b[1;32m----> 1\u001b[0m \u001b[43mhist\u001b[49m\u001b[38;5;241m.\u001b[39mboxplot(cost\u001b[38;5;241m.\u001b[39mcpo)\n",
      "\u001b[1;31mNameError\u001b[0m: name 'hist' is not defined"
     ]
    }
   ],
   "source": [
    "hist.boxplot(cost.cpo)"
   ]
  },
  {
   "cell_type": "code",
   "execution_count": 42,
   "id": "c31cf0da",
   "metadata": {},
   "outputs": [
    {
     "data": {
      "text/plain": [
       "(array([42., 25.,  6.,  3.,  5.,  5.,  3.,  1.,  2.,  2.]),\n",
       " array([6.87500000e+01, 1.28118750e+04, 2.55550000e+04, 3.82981250e+04,\n",
       "        5.10412500e+04, 6.37843750e+04, 7.65275000e+04, 8.92706250e+04,\n",
       "        1.02013750e+05, 1.14756875e+05, 1.27500000e+05]),\n",
       " <BarContainer object of 10 artists>)"
      ]
     },
     "execution_count": 42,
     "metadata": {},
     "output_type": "execute_result"
    },
    {
     "data": {
      "image/png": "[encoded data removed]",
      "text/plain": [
       "<Figure size 432x288 with 1 Axes>"
      ]
     },
     "metadata": {
      "needs_background": "light"
     },
     "output_type": "display_data"
    }
   ],
   "source": [
    "plt.hist(cost.cpo)"
   ]
  },
  {
   "cell_type": "code",
   "execution_count": 45,
   "id": "bb421b98",
   "metadata": {},
   "outputs": [
    {
     "data": {
      "image/png": "[encoded data removed]",
      "text/plain": [
       "<Figure size 432x288 with 1 Axes>"
      ]
     },
     "metadata": {
      "needs_background": "light"
     },
     "output_type": "display_data"
    }
   ],
   "source": [
    "plt.hist(cost.cpo)\n",
    "plt.show()"
   ]
  },
  {
   "cell_type": "code",
   "execution_count": 44,
   "id": "ddf6228f",
   "metadata": {},
   "outputs": [
    {
     "data": {
      "image/png": "[encoded data removed]",
      "text/plain": [
       "<Figure size 432x288 with 1 Axes>"
      ]
     },
     "metadata": {
      "needs_background": "light"
     },
     "output_type": "display_data"
    }
   ],
   "source": [
    "plt.hist(cost.cpo)\n",
    "plt.show()"
   ]
  },
  {
   "cell_type": "code",
   "execution_count": null,
   "id": "c58ae0f4",
   "metadata": {},
   "outputs": [],
   "source": []
  }
 ],
 "metadata": {
  "kernelspec": {
   "display_name": "Python 3 (ipykernel)",
   "language": "python",
   "name": "python3"
  },
  "language_info": {
   "codemirror_mode": {
    "name": "ipython",
    "version": 3
   },
   "file_extension": ".py",
   "mimetype": "text/x-python",
   "name": "python",
   "nbconvert_exporter": "python",
   "pygments_lexer": "ipython3",
   "version": "3.9.9"
  }
 },
 "nbformat": 4,
 "nbformat_minor": 5
}
