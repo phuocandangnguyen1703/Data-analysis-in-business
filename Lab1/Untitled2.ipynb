{
 "cells": [
  {
   "cell_type": "code",
   "execution_count": 1,
   "id": "96df05c6",
   "metadata": {},
   "outputs": [],
   "source": [
    "import numpy as np\n",
    "import pandas as pd\n",
    "import statistics as st\n",
    "import matplotlib.pyplot as plt\n",
    "from scipy.stats import skew\n",
    "from scipy.stats import kurtosis\n"
   ]
  },
  {
   "cell_type": "code",
   "execution_count": 3,
   "id": "191a2288",
   "metadata": {},
   "outputs": [],
   "source": [
    "rpt = pd.read_csv(\"Computer Repair Times.csv\")"
   ]
  },
  {
   "cell_type": "code",
   "execution_count": 4,
   "id": "f3452fdc",
   "metadata": {},
   "outputs": [
    {
     "data": {
      "text/html": [
       "<div>\n",
       "<style scoped>\n",
       "    .dataframe tbody tr th:only-of-type {\n",
       "        vertical-align: middle;\n",
       "    }\n",
       "\n",
       "    .dataframe tbody tr th {\n",
       "        vertical-align: top;\n",
       "    }\n",
       "\n",
       "    .dataframe thead th {\n",
       "        text-align: right;\n",
       "    }\n",
       "</style>\n",
       "<table border=\"1\" class=\"dataframe\">\n",
       "  <thead>\n",
       "    <tr style=\"text-align: right;\">\n",
       "      <th></th>\n",
       "      <th>Sample</th>\n",
       "      <th>RPT</th>\n",
       "    </tr>\n",
       "  </thead>\n",
       "  <tbody>\n",
       "    <tr>\n",
       "      <th>0</th>\n",
       "      <td>1</td>\n",
       "      <td>18.0</td>\n",
       "    </tr>\n",
       "    <tr>\n",
       "      <th>1</th>\n",
       "      <td>2</td>\n",
       "      <td>15.0</td>\n",
       "    </tr>\n",
       "    <tr>\n",
       "      <th>2</th>\n",
       "      <td>3</td>\n",
       "      <td>17.0</td>\n",
       "    </tr>\n",
       "    <tr>\n",
       "      <th>3</th>\n",
       "      <td>4</td>\n",
       "      <td>9.0</td>\n",
       "    </tr>\n",
       "    <tr>\n",
       "      <th>4</th>\n",
       "      <td>5</td>\n",
       "      <td>37.0</td>\n",
       "    </tr>\n",
       "    <tr>\n",
       "      <th>...</th>\n",
       "      <td>...</td>\n",
       "      <td>...</td>\n",
       "    </tr>\n",
       "    <tr>\n",
       "      <th>245</th>\n",
       "      <td>246</td>\n",
       "      <td>18.0</td>\n",
       "    </tr>\n",
       "    <tr>\n",
       "      <th>246</th>\n",
       "      <td>247</td>\n",
       "      <td>31.0</td>\n",
       "    </tr>\n",
       "    <tr>\n",
       "      <th>247</th>\n",
       "      <td>248</td>\n",
       "      <td>6.0</td>\n",
       "    </tr>\n",
       "    <tr>\n",
       "      <th>248</th>\n",
       "      <td>249</td>\n",
       "      <td>17.0</td>\n",
       "    </tr>\n",
       "    <tr>\n",
       "      <th>249</th>\n",
       "      <td>250</td>\n",
       "      <td>13.0</td>\n",
       "    </tr>\n",
       "  </tbody>\n",
       "</table>\n",
       "<p>250 rows × 2 columns</p>\n",
       "</div>"
      ],
      "text/plain": [
       "     Sample   RPT\n",
       "0         1  18.0\n",
       "1         2  15.0\n",
       "2         3  17.0\n",
       "3         4   9.0\n",
       "4         5  37.0\n",
       "..      ...   ...\n",
       "245     246  18.0\n",
       "246     247  31.0\n",
       "247     248   6.0\n",
       "248     249  17.0\n",
       "249     250  13.0\n",
       "\n",
       "[250 rows x 2 columns]"
      ]
     },
     "execution_count": 4,
     "metadata": {},
     "output_type": "execute_result"
    }
   ],
   "source": [
    "rpt"
   ]
  },
  {
   "cell_type": "code",
   "execution_count": 5,
   "id": "52cdafcc",
   "metadata": {},
   "outputs": [
    {
     "data": {
      "text/plain": [
       "250"
      ]
     },
     "execution_count": 5,
     "metadata": {},
     "output_type": "execute_result"
    }
   ],
   "source": [
    "len(rpt)"
   ]
  },
  {
   "cell_type": "code",
   "execution_count": 6,
   "id": "eda5e5b5",
   "metadata": {},
   "outputs": [
    {
     "data": {
      "text/plain": [
       "5.0"
      ]
     },
     "execution_count": 6,
     "metadata": {},
     "output_type": "execute_result"
    }
   ],
   "source": [
    "min(rpt.RPT)"
   ]
  },
  {
   "cell_type": "code",
   "execution_count": 7,
   "id": "95eb93a2",
   "metadata": {},
   "outputs": [
    {
     "data": {
      "text/plain": [
       "40.0"
      ]
     },
     "execution_count": 7,
     "metadata": {},
     "output_type": "execute_result"
    }
   ],
   "source": [
    "max(rpt.RPT)"
   ]
  },
  {
   "cell_type": "code",
   "execution_count": 8,
   "id": "6c1a646e",
   "metadata": {},
   "outputs": [
    {
     "data": {
      "text/plain": [
       "14.912"
      ]
     },
     "execution_count": 8,
     "metadata": {},
     "output_type": "execute_result"
    }
   ],
   "source": [
    "st.mean(rpt.RPT)"
   ]
  },
  {
   "cell_type": "code",
   "execution_count": 9,
   "id": "3d0435bd",
   "metadata": {},
   "outputs": [
    {
     "data": {
      "text/plain": [
       "14.0"
      ]
     },
     "execution_count": 9,
     "metadata": {},
     "output_type": "execute_result"
    }
   ],
   "source": [
    "st.median(rpt.RPT)"
   ]
  },
  {
   "cell_type": "code",
   "execution_count": 10,
   "id": "a28febb1",
   "metadata": {},
   "outputs": [],
   "source": [
    "range = max(rpt.RPT)- min(rpt.RPT)"
   ]
  },
  {
   "cell_type": "code",
   "execution_count": 11,
   "id": "8421ad09",
   "metadata": {},
   "outputs": [
    {
     "data": {
      "text/plain": [
       "35.0"
      ]
     },
     "execution_count": 11,
     "metadata": {},
     "output_type": "execute_result"
    }
   ],
   "source": [
    "range"
   ]
  },
  {
   "cell_type": "code",
   "execution_count": 12,
   "id": "04b60dd9",
   "metadata": {},
   "outputs": [],
   "source": [
    "from collections import Counter"
   ]
  },
  {
   "cell_type": "code",
   "execution_count": 13,
   "id": "0f34da0a",
   "metadata": {},
   "outputs": [],
   "source": [
    "def my_mode(sample):\n",
    "...     c = Counter(sample)\n",
    "...     return [k for k, v in c.items() if v == c.most_common(1)[0][1]]\n"
   ]
  },
  {
   "cell_type": "code",
   "execution_count": 14,
   "id": "5bc0988e",
   "metadata": {},
   "outputs": [
    {
     "data": {
      "text/plain": [
       "[15.0, 12.0]"
      ]
     },
     "execution_count": 14,
     "metadata": {},
     "output_type": "execute_result"
    }
   ],
   "source": [
    "my_mode(rpt.RPT)"
   ]
  },
  {
   "cell_type": "code",
   "execution_count": 15,
   "id": "4428545d",
   "metadata": {},
   "outputs": [
    {
     "data": {
      "text/plain": [
       "35.502265060240966"
      ]
     },
     "execution_count": 15,
     "metadata": {},
     "output_type": "execute_result"
    }
   ],
   "source": [
    "st.variance(rpt.RPT)"
   ]
  },
  {
   "cell_type": "code",
   "execution_count": 16,
   "id": "6ebce4e3",
   "metadata": {},
   "outputs": [
    {
     "data": {
      "text/plain": [
       "5.958377720507568"
      ]
     },
     "execution_count": 16,
     "metadata": {},
     "output_type": "execute_result"
    }
   ],
   "source": [
    "st.stdev(rpt.RPT)"
   ]
  },
  {
   "cell_type": "code",
   "execution_count": 17,
   "id": "b833c8af",
   "metadata": {},
   "outputs": [],
   "source": [
    "cv = st.stdev(rpt.RPT)/st.mean(rpt.RPT)"
   ]
  },
  {
   "cell_type": "code",
   "execution_count": 18,
   "id": "cec85a3e",
   "metadata": {},
   "outputs": [
    {
     "data": {
      "text/plain": [
       "0.39956932138596885"
      ]
     },
     "execution_count": 18,
     "metadata": {},
     "output_type": "execute_result"
    }
   ],
   "source": [
    "cv"
   ]
  },
  {
   "cell_type": "code",
   "execution_count": 19,
   "id": "eec3cd93",
   "metadata": {},
   "outputs": [
    {
     "data": {
      "text/plain": [
       "1.6850869214811053"
      ]
     },
     "execution_count": 19,
     "metadata": {},
     "output_type": "execute_result"
    }
   ],
   "source": [
    "skew(rpt.RPT)"
   ]
  },
  {
   "cell_type": "code",
   "execution_count": 20,
   "id": "b8ac1ef4",
   "metadata": {},
   "outputs": [
    {
     "data": {
      "text/plain": [
       "3.9739941108050916"
      ]
     },
     "execution_count": 20,
     "metadata": {},
     "output_type": "execute_result"
    }
   ],
   "source": [
    "kurtosis(rpt.RPT)"
   ]
  },
  {
   "cell_type": "code",
   "execution_count": 21,
   "id": "a5c6f809",
   "metadata": {},
   "outputs": [
    {
     "data": {
      "text/plain": [
       "11.0"
      ]
     },
     "execution_count": 21,
     "metadata": {},
     "output_type": "execute_result"
    }
   ],
   "source": [
    "np.quantile(rpt.RPT, 0.25)"
   ]
  },
  {
   "cell_type": "code",
   "execution_count": 22,
   "id": "1c19ebae",
   "metadata": {},
   "outputs": [
    {
     "data": {
      "text/plain": [
       "17.0"
      ]
     },
     "execution_count": 22,
     "metadata": {},
     "output_type": "execute_result"
    }
   ],
   "source": [
    "np.quantile(rpt.RPT, 0.75)"
   ]
  },
  {
   "cell_type": "code",
   "execution_count": 23,
   "id": "19cf8ffc",
   "metadata": {},
   "outputs": [],
   "source": [
    "IQR = np.quantile(rpt.RPT, 0.75)- np.quantile(rpt.RPT, 0.25)"
   ]
  },
  {
   "cell_type": "code",
   "execution_count": 24,
   "id": "2c970b79",
   "metadata": {},
   "outputs": [
    {
     "data": {
      "text/plain": [
       "6.0"
      ]
     },
     "execution_count": 24,
     "metadata": {},
     "output_type": "execute_result"
    }
   ],
   "source": [
    "IQR"
   ]
  },
  {
   "cell_type": "code",
   "execution_count": 25,
   "id": "565858c2",
   "metadata": {},
   "outputs": [
    {
     "data": {
      "image/png": "[encoded data removed]",
      "text/plain": [
       "<Figure size 432x288 with 1 Axes>"
      ]
     },
     "metadata": {
      "needs_background": "light"
     },
     "output_type": "display_data"
    }
   ],
   "source": [
    "plt.boxplot(rpt.RPT)\n",
    "plt.show()"
   ]
  },
  {
   "cell_type": "code",
   "execution_count": 26,
   "id": "b92ff224",
   "metadata": {},
   "outputs": [
    {
     "data": {
      "image/png": "[encoded data removed]",
      "text/plain": [
       "<Figure size 432x288 with 1 Axes>"
      ]
     },
     "metadata": {
      "needs_background": "light"
     },
     "output_type": "display_data"
    }
   ],
   "source": [
    "plt.hist(rpt.RPT)\n",
    "plt.show()"
   ]
  },
  {
   "cell_type": "code",
   "execution_count": null,
   "id": "7d71a4a9",
   "metadata": {},
   "outputs": [],
   "source": []
  }
 ],
 "metadata": {
  "kernelspec": {
   "display_name": "Python 3 (ipykernel)",
   "language": "python",
   "name": "python3"
  },
  "language_info": {
   "codemirror_mode": {
    "name": "ipython",
    "version": 3
   },
   "file_extension": ".py",
   "mimetype": "text/x-python",
   "name": "python",
   "nbconvert_exporter": "python",
   "pygments_lexer": "ipython3",
   "version": "3.9.9"
  }
 },
 "nbformat": 4,
 "nbformat_minor": 5
}
