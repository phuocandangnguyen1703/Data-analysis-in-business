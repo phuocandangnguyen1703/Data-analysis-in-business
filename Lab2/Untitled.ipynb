{
 "cells": [
  {
   "cell_type": "code",
   "execution_count": 1,
   "id": "9df113c0",
   "metadata": {},
   "outputs": [],
   "source": [
    "import numpy as np\n",
    "import pandas as pd\n",
    "import statistics as st\n",
    "import matplotlib.pyplot as plt\n",
    "from scipy.stats import skew\n",
    "from scipy.stats import kurtosis\n"
   ]
  },
  {
   "cell_type": "code",
   "execution_count": 3,
   "id": "3799fa21",
   "metadata": {},
   "outputs": [],
   "source": [
    "df= pd.read_csv(\"Insurance Survey_CSV.csv\")"
   ]
  },
  {
   "cell_type": "code",
   "execution_count": 4,
   "id": "f9ce7bc3",
   "metadata": {},
   "outputs": [
    {
     "data": {
      "text/html": [
       "<div>\n",
       "<style scoped>\n",
       "    .dataframe tbody tr th:only-of-type {\n",
       "        vertical-align: middle;\n",
       "    }\n",
       "\n",
       "    .dataframe tbody tr th {\n",
       "        vertical-align: top;\n",
       "    }\n",
       "\n",
       "    .dataframe thead th {\n",
       "        text-align: right;\n",
       "    }\n",
       "</style>\n",
       "<table border=\"1\" class=\"dataframe\">\n",
       "  <thead>\n",
       "    <tr style=\"text-align: right;\">\n",
       "      <th></th>\n",
       "      <th>Age</th>\n",
       "      <th>Gender</th>\n",
       "      <th>Education</th>\n",
       "      <th>Marital Status</th>\n",
       "      <th>Years Employed</th>\n",
       "      <th>Satisfaction*</th>\n",
       "      <th>Premium/Deductible**</th>\n",
       "    </tr>\n",
       "  </thead>\n",
       "  <tbody>\n",
       "    <tr>\n",
       "      <th>0</th>\n",
       "      <td>36</td>\n",
       "      <td>F</td>\n",
       "      <td>Some college</td>\n",
       "      <td>Divorced</td>\n",
       "      <td>4</td>\n",
       "      <td>4</td>\n",
       "      <td>N</td>\n",
       "    </tr>\n",
       "    <tr>\n",
       "      <th>1</th>\n",
       "      <td>55</td>\n",
       "      <td>F</td>\n",
       "      <td>Some college</td>\n",
       "      <td>Divorced</td>\n",
       "      <td>2</td>\n",
       "      <td>1</td>\n",
       "      <td>N</td>\n",
       "    </tr>\n",
       "    <tr>\n",
       "      <th>2</th>\n",
       "      <td>61</td>\n",
       "      <td>M</td>\n",
       "      <td>Graduate degree</td>\n",
       "      <td>Widowed</td>\n",
       "      <td>26</td>\n",
       "      <td>3</td>\n",
       "      <td>N</td>\n",
       "    </tr>\n",
       "    <tr>\n",
       "      <th>3</th>\n",
       "      <td>65</td>\n",
       "      <td>F</td>\n",
       "      <td>Some college</td>\n",
       "      <td>Married</td>\n",
       "      <td>9</td>\n",
       "      <td>4</td>\n",
       "      <td>N</td>\n",
       "    </tr>\n",
       "    <tr>\n",
       "      <th>4</th>\n",
       "      <td>53</td>\n",
       "      <td>F</td>\n",
       "      <td>Graduate degree</td>\n",
       "      <td>Married</td>\n",
       "      <td>6</td>\n",
       "      <td>4</td>\n",
       "      <td>N</td>\n",
       "    </tr>\n",
       "    <tr>\n",
       "      <th>5</th>\n",
       "      <td>50</td>\n",
       "      <td>F</td>\n",
       "      <td>Graduate degree</td>\n",
       "      <td>Married</td>\n",
       "      <td>10</td>\n",
       "      <td>5</td>\n",
       "      <td>N</td>\n",
       "    </tr>\n",
       "    <tr>\n",
       "      <th>6</th>\n",
       "      <td>28</td>\n",
       "      <td>F</td>\n",
       "      <td>College graduate</td>\n",
       "      <td>Married</td>\n",
       "      <td>4</td>\n",
       "      <td>5</td>\n",
       "      <td>N</td>\n",
       "    </tr>\n",
       "    <tr>\n",
       "      <th>7</th>\n",
       "      <td>62</td>\n",
       "      <td>F</td>\n",
       "      <td>College graduate</td>\n",
       "      <td>Divorced</td>\n",
       "      <td>9</td>\n",
       "      <td>3</td>\n",
       "      <td>N</td>\n",
       "    </tr>\n",
       "    <tr>\n",
       "      <th>8</th>\n",
       "      <td>48</td>\n",
       "      <td>M</td>\n",
       "      <td>Graduate degree</td>\n",
       "      <td>Married</td>\n",
       "      <td>6</td>\n",
       "      <td>5</td>\n",
       "      <td>N</td>\n",
       "    </tr>\n",
       "    <tr>\n",
       "      <th>9</th>\n",
       "      <td>31</td>\n",
       "      <td>M</td>\n",
       "      <td>Graduate degree</td>\n",
       "      <td>Married</td>\n",
       "      <td>1</td>\n",
       "      <td>5</td>\n",
       "      <td>N</td>\n",
       "    </tr>\n",
       "    <tr>\n",
       "      <th>10</th>\n",
       "      <td>57</td>\n",
       "      <td>F</td>\n",
       "      <td>College graduate</td>\n",
       "      <td>Married</td>\n",
       "      <td>4</td>\n",
       "      <td>5</td>\n",
       "      <td>N</td>\n",
       "    </tr>\n",
       "    <tr>\n",
       "      <th>11</th>\n",
       "      <td>44</td>\n",
       "      <td>M</td>\n",
       "      <td>College graduate</td>\n",
       "      <td>Married</td>\n",
       "      <td>2</td>\n",
       "      <td>3</td>\n",
       "      <td>N</td>\n",
       "    </tr>\n",
       "    <tr>\n",
       "      <th>12</th>\n",
       "      <td>38</td>\n",
       "      <td>M</td>\n",
       "      <td>Some college</td>\n",
       "      <td>Married</td>\n",
       "      <td>3</td>\n",
       "      <td>2</td>\n",
       "      <td>N</td>\n",
       "    </tr>\n",
       "    <tr>\n",
       "      <th>13</th>\n",
       "      <td>27</td>\n",
       "      <td>M</td>\n",
       "      <td>Some college</td>\n",
       "      <td>Married</td>\n",
       "      <td>2</td>\n",
       "      <td>3</td>\n",
       "      <td>N</td>\n",
       "    </tr>\n",
       "    <tr>\n",
       "      <th>14</th>\n",
       "      <td>56</td>\n",
       "      <td>M</td>\n",
       "      <td>Graduate degree</td>\n",
       "      <td>Married</td>\n",
       "      <td>4</td>\n",
       "      <td>4</td>\n",
       "      <td>Y</td>\n",
       "    </tr>\n",
       "    <tr>\n",
       "      <th>15</th>\n",
       "      <td>43</td>\n",
       "      <td>F</td>\n",
       "      <td>College graduate</td>\n",
       "      <td>Married</td>\n",
       "      <td>5</td>\n",
       "      <td>3</td>\n",
       "      <td>Y</td>\n",
       "    </tr>\n",
       "    <tr>\n",
       "      <th>16</th>\n",
       "      <td>45</td>\n",
       "      <td>M</td>\n",
       "      <td>College graduate</td>\n",
       "      <td>Married</td>\n",
       "      <td>15</td>\n",
       "      <td>3</td>\n",
       "      <td>Y</td>\n",
       "    </tr>\n",
       "    <tr>\n",
       "      <th>17</th>\n",
       "      <td>42</td>\n",
       "      <td>F</td>\n",
       "      <td>College graduate</td>\n",
       "      <td>Married</td>\n",
       "      <td>12</td>\n",
       "      <td>3</td>\n",
       "      <td>Y</td>\n",
       "    </tr>\n",
       "    <tr>\n",
       "      <th>18</th>\n",
       "      <td>29</td>\n",
       "      <td>M</td>\n",
       "      <td>Graduate degree</td>\n",
       "      <td>Single</td>\n",
       "      <td>10</td>\n",
       "      <td>5</td>\n",
       "      <td>N</td>\n",
       "    </tr>\n",
       "    <tr>\n",
       "      <th>19</th>\n",
       "      <td>28</td>\n",
       "      <td>F</td>\n",
       "      <td>Some college</td>\n",
       "      <td>Married</td>\n",
       "      <td>3</td>\n",
       "      <td>4</td>\n",
       "      <td>Y</td>\n",
       "    </tr>\n",
       "    <tr>\n",
       "      <th>20</th>\n",
       "      <td>36</td>\n",
       "      <td>M</td>\n",
       "      <td>Some college</td>\n",
       "      <td>Divorced</td>\n",
       "      <td>15</td>\n",
       "      <td>4</td>\n",
       "      <td>Y</td>\n",
       "    </tr>\n",
       "    <tr>\n",
       "      <th>21</th>\n",
       "      <td>49</td>\n",
       "      <td>F</td>\n",
       "      <td>Graduate degree</td>\n",
       "      <td>Married</td>\n",
       "      <td>2</td>\n",
       "      <td>5</td>\n",
       "      <td>N</td>\n",
       "    </tr>\n",
       "    <tr>\n",
       "      <th>22</th>\n",
       "      <td>46</td>\n",
       "      <td>F</td>\n",
       "      <td>College graduate</td>\n",
       "      <td>Divorced</td>\n",
       "      <td>20</td>\n",
       "      <td>4</td>\n",
       "      <td>N</td>\n",
       "    </tr>\n",
       "    <tr>\n",
       "      <th>23</th>\n",
       "      <td>52</td>\n",
       "      <td>F</td>\n",
       "      <td>College graduate</td>\n",
       "      <td>Married</td>\n",
       "      <td>18</td>\n",
       "      <td>2</td>\n",
       "      <td>N</td>\n",
       "    </tr>\n",
       "  </tbody>\n",
       "</table>\n",
       "</div>"
      ],
      "text/plain": [
       "    Age Gender         Education Marital Status  Years Employed  \\\n",
       "0    36      F      Some college       Divorced               4   \n",
       "1    55      F      Some college       Divorced               2   \n",
       "2    61      M   Graduate degree        Widowed              26   \n",
       "3    65      F      Some college        Married               9   \n",
       "4    53      F   Graduate degree        Married               6   \n",
       "5    50      F   Graduate degree        Married              10   \n",
       "6    28      F  College graduate        Married               4   \n",
       "7    62      F  College graduate       Divorced               9   \n",
       "8    48      M   Graduate degree        Married               6   \n",
       "9    31      M   Graduate degree        Married               1   \n",
       "10   57      F  College graduate        Married               4   \n",
       "11   44      M  College graduate        Married               2   \n",
       "12   38      M      Some college        Married               3   \n",
       "13   27      M      Some college        Married               2   \n",
       "14   56      M   Graduate degree        Married               4   \n",
       "15   43      F  College graduate        Married               5   \n",
       "16   45      M  College graduate        Married              15   \n",
       "17   42      F  College graduate        Married              12   \n",
       "18   29      M   Graduate degree         Single              10   \n",
       "19   28      F      Some college        Married               3   \n",
       "20   36      M      Some college       Divorced              15   \n",
       "21   49      F   Graduate degree        Married               2   \n",
       "22   46      F  College graduate       Divorced              20   \n",
       "23   52      F  College graduate        Married              18   \n",
       "\n",
       "    Satisfaction*  Premium/Deductible**  \n",
       "0                4                    N  \n",
       "1                1                    N  \n",
       "2                3                    N  \n",
       "3                4                    N  \n",
       "4                4                    N  \n",
       "5                5                    N  \n",
       "6                5                    N  \n",
       "7                3                    N  \n",
       "8                5                    N  \n",
       "9                5                    N  \n",
       "10               5                    N  \n",
       "11               3                    N  \n",
       "12               2                    N  \n",
       "13               3                    N  \n",
       "14               4                    Y  \n",
       "15               3                    Y  \n",
       "16               3                    Y  \n",
       "17               3                    Y  \n",
       "18               5                    N  \n",
       "19               4                    Y  \n",
       "20               4                    Y  \n",
       "21               5                    N  \n",
       "22               4                    N  \n",
       "23               2                    N  "
      ]
     },
     "execution_count": 4,
     "metadata": {},
     "output_type": "execute_result"
    }
   ],
   "source": [
    "df"
   ]
  },
  {
   "cell_type": "code",
   "execution_count": 5,
   "id": "6676ec79",
   "metadata": {},
   "outputs": [
    {
     "ename": "SyntaxError",
     "evalue": "invalid syntax (3260929332.py, line 1)",
     "output_type": "error",
     "traceback": [
      "\u001b[1;36m  Input \u001b[1;32mIn [5]\u001b[1;36m\u001b[0m\n\u001b[1;33m    stat, p = levene(Satisfaction*, Educationcenter = ‘mean’)\u001b[0m\n\u001b[1;37m                                  ^\u001b[0m\n\u001b[1;31mSyntaxError\u001b[0m\u001b[1;31m:\u001b[0m invalid syntax\n"
     ]
    }
   ],
   "source": [
    "stat, p = levene(Satisfaction*, Educationcenter = ‘mean’)\n",
    "print(stat, p)\n",
    "//stat: Giá trị kiểm định Levene W\n",
    "//p: Giá trị p-value"
   ]
  },
  {
   "cell_type": "code",
   "execution_count": 10,
   "id": "2009b651",
   "metadata": {},
   "outputs": [
    {
     "name": "stdout",
     "output_type": "stream",
     "text": [
      "Education\n",
      "College graduate    [5, 3, 5, 3, 3, 3, 3, 4, 2]\n",
      "Graduate degree        [3, 4, 5, 5, 5, 4, 5, 5]\n",
      "Some college              [4, 1, 4, 2, 3, 4, 4]\n",
      "Name: Satisfaction* , dtype: object\n"
     ]
    }
   ],
   "source": [
    "df2=df.groupby('Education')['Satisfaction* '].apply(list)\n",
    "print(df2)"
   ]
  },
  {
   "cell_type": "code",
   "execution_count": 11,
   "id": "6c781132",
   "metadata": {},
   "outputs": [],
   "source": [
    "from scipy.stats import levene"
   ]
  },
  {
   "cell_type": "code",
   "execution_count": 12,
   "id": "dfff5e7a",
   "metadata": {},
   "outputs": [
    {
     "ename": "SyntaxError",
     "evalue": "invalid syntax (3260929332.py, line 1)",
     "output_type": "error",
     "traceback": [
      "\u001b[1;36m  Input \u001b[1;32mIn [12]\u001b[1;36m\u001b[0m\n\u001b[1;33m    stat, p = levene(Satisfaction*, Educationcenter = ‘mean’)\u001b[0m\n\u001b[1;37m                                  ^\u001b[0m\n\u001b[1;31mSyntaxError\u001b[0m\u001b[1;31m:\u001b[0m invalid syntax\n"
     ]
    }
   ],
   "source": [
    "stat, p = levene(Satisfaction*, Educationcenter = ‘mean’)\n",
    "print(stat, p)\n",
    "//stat: Giá trị kiểm định Levene W\n",
    "//p: Giá trị p-value"
   ]
  },
  {
   "cell_type": "code",
   "execution_count": 15,
   "id": "ae3174b4",
   "metadata": {},
   "outputs": [
    {
     "name": "stdout",
     "output_type": "stream",
     "text": [
      "0.9433580072525427 0.40520616699352924\n"
     ]
    }
   ],
   "source": [
    "stat,p = levene(*df2,center='mean')\n",
    "print(stat, p)"
   ]
  },
  {
   "cell_type": "code",
   "execution_count": 16,
   "id": "6902cdc3",
   "metadata": {},
   "outputs": [],
   "source": [
    "import scipy.stats as stats"
   ]
  },
  {
   "cell_type": "code",
   "execution_count": 18,
   "id": "64d80956",
   "metadata": {},
   "outputs": [
    {
     "name": "stdout",
     "output_type": "stream",
     "text": [
      "3.9246517319277117 0.03563539756488997\n"
     ]
    }
   ],
   "source": [
    "fvalue, pvalue = stats.f_oneway(*df2)\n",
    "print(fvalue, pvalue)"
   ]
  },
  {
   "cell_type": "code",
   "execution_count": 19,
   "id": "17fe86bf",
   "metadata": {},
   "outputs": [
    {
     "ename": "ModuleNotFoundError",
     "evalue": "No module named 'statsmodels'",
     "output_type": "error",
     "traceback": [
      "\u001b[1;31m---------------------------------------------------------------------------\u001b[0m",
      "\u001b[1;31mModuleNotFoundError\u001b[0m                       Traceback (most recent call last)",
      "Input \u001b[1;32mIn [19]\u001b[0m, in \u001b[0;36m<cell line: 1>\u001b[1;34m()\u001b[0m\n\u001b[1;32m----> 1\u001b[0m \u001b[38;5;28;01mfrom\u001b[39;00m \u001b[38;5;21;01mstatsmodels\u001b[39;00m\u001b[38;5;21;01m.\u001b[39;00m\u001b[38;5;21;01mstats\u001b[39;00m\u001b[38;5;21;01m.\u001b[39;00m\u001b[38;5;21;01mmulticomp\u001b[39;00m \u001b[38;5;28;01mimport\u001b[39;00m pairwise_tukeyhsd\n",
      "\u001b[1;31mModuleNotFoundError\u001b[0m: No module named 'statsmodels'"
     ]
    }
   ],
   "source": [
    "from statsmodels.stats.multicomp import pairwise_tukeyhsd"
   ]
  },
  {
   "cell_type": "code",
   "execution_count": 22,
   "id": "14ecabb7",
   "metadata": {},
   "outputs": [
    {
     "name": "stdout",
     "output_type": "stream",
     "text": [
      "          Multiple Comparison of Means - Tukey HSD, FWER=0.05          \n",
      "=======================================================================\n",
      "     group1           group2     meandiff p-adj   lower   upper  reject\n",
      "-----------------------------------------------------------------------\n",
      "College graduate Graduate degree   1.0556 0.1003 -0.1715  2.2826  False\n",
      "College graduate    Some college  -0.3016 0.8231 -1.5742  0.9711  False\n",
      " Graduate degree    Some college  -1.3571 0.0409 -2.6641 -0.0502   True\n",
      "-----------------------------------------------------------------------\n"
     ]
    }
   ],
   "source": [
    "from statsmodels.stats.multicomp import pairwise_tukeyhsd\n",
    "tukey = pairwise_tukeyhsd(endog=df['Satisfaction* '],\n",
    "groups=df.Education,\n",
    "alpha=0.05)\n",
    "print(tukey)"
   ]
  },
  {
   "cell_type": "code",
   "execution_count": null,
   "id": "eb9d7818",
   "metadata": {},
   "outputs": [],
   "source": []
  }
 ],
 "metadata": {
  "kernelspec": {
   "display_name": "Python 3 (ipykernel)",
   "language": "python",
   "name": "python3"
  },
  "language_info": {
   "codemirror_mode": {
    "name": "ipython",
    "version": 3
   },
   "file_extension": ".py",
   "mimetype": "text/x-python",
   "name": "python",
   "nbconvert_exporter": "python",
   "pygments_lexer": "ipython3",
   "version": "3.9.9"
  }
 },
 "nbformat": 4,
 "nbformat_minor": 5
}
